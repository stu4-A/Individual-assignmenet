{
  "nbformat": 4,
  "nbformat_minor": 0,
  "metadata": {
    "colab": {
      "provenance": [],
      "include_colab_link": true
    },
    "kernelspec": {
      "name": "python3",
      "display_name": "Python 3"
    },
    "language_info": {
      "name": "python"
    }
  },
  "cells": [
    {
      "cell_type": "markdown",
      "metadata": {
        "id": "view-in-github",
        "colab_type": "text"
      },
      "source": [
        "<a href=\"https://colab.research.google.com/github/stu4-A/Individual-assignmenet/blob/main/Personal_assignment.ipynb\" target=\"_parent\"><img src=\"https://colab.research.google.com/assets/colab-badge.svg\" alt=\"Open In Colab\"/></a>"
      ]
    },
    {
      "cell_type": "markdown",
      "source": [
        "Question 1"
      ],
      "metadata": {
        "id": "d13wBUq06eZc"
      }
    },
    {
      "cell_type": "markdown",
      "source": [
        "1a"
      ],
      "metadata": {
        "id": "RXAEt8kd6rne"
      }
    },
    {
      "cell_type": "code",
      "source": [
        "# ------------------------------------------\n",
        "# Question 1a: BankAccount Class\n",
        "# ------------------------------------------\n",
        "\n",
        "class BankAccount:\n",
        "    \"\"\"A simple bank account class that supports deposits and withdrawals.\"\"\"\n",
        "\n",
        "    def __init__(self, initial_balance=0):\n",
        "        # Private attribute to store balance\n",
        "        self._balance = initial_balance\n",
        "\n",
        "    def deposit(self, amount):\n",
        "        \"\"\"Add money to the account.\"\"\"\n",
        "        if amount > 0:\n",
        "            self._balance += amount\n",
        "            print(f\"Deposited {amount}. New balance: {self._balance}\")\n",
        "        else:\n",
        "            print(\"Deposit amount must be positive.\")\n",
        "\n",
        "    def withdraw(self, amount):\n",
        "        \"\"\"Withdraw money if sufficient balance exists.\"\"\"\n",
        "        if amount <= 0:\n",
        "            print(\"Withdrawal amount must be positive.\")\n",
        "        elif amount > self._balance:\n",
        "            print(\"Insufficient funds.\")\n",
        "        else:\n",
        "            self._balance -= amount\n",
        "            print(f\"Withdrew {amount}. New balance: {self._balance}\")\n",
        "\n",
        "    def get_balance(self):\n",
        "        \"\"\"Return the current account balance.\"\"\"\n",
        "        return self._balance\n",
        "\n",
        "\n",
        "# ---- Testing the class with two objects ----\n",
        "print(\"=== Question 1a: BankAccount Test ===\")\n",
        "\n",
        "# Create two bank accounts\n",
        "acc1 = BankAccount(500)\n",
        "acc2 = BankAccount(1000)\n",
        "\n",
        "# Perform deposits and withdrawals\n",
        "acc1.deposit(200)\n",
        "acc1.withdraw(100)\n",
        "\n",
        "acc2.deposit(500)\n",
        "acc2.withdraw(300)\n",
        "\n",
        "print(f\"Final Balance (Account 1): {acc1.get_balance()}\")\n",
        "print(f\"Final Balance (Account 2): {acc2.get_balance()}\")\n",
        "print()\n"
      ],
      "metadata": {
        "colab": {
          "base_uri": "https://localhost:8080/"
        },
        "id": "RzYhIPLV9nWv",
        "outputId": "21bf1e23-46dd-4a46-dde2-d7a6047f84ae"
      },
      "execution_count": null,
      "outputs": [
        {
          "output_type": "stream",
          "name": "stdout",
          "text": [
            "=== Question 1a: BankAccount Test ===\n",
            "Deposited 200. New balance: 700\n",
            "Withdrew 100. New balance: 600\n",
            "Deposited 500. New balance: 1500\n",
            "Withdrew 300. New balance: 1200\n",
            "Final Balance (Account 1): 600\n",
            "Final Balance (Account 2): 1200\n",
            "\n"
          ]
        }
      ]
    },
    {
      "cell_type": "markdown",
      "source": [
        "1 b"
      ],
      "metadata": {
        "id": "O85PVYSR6xsM"
      }
    },
    {
      "cell_type": "code",
      "source": [
        "# ------------------------------------------\n",
        "# Question 1b: Student Record Management (Refactored)\n",
        "# ------------------------------------------\n",
        "\n",
        "class Student:\n",
        "    \"\"\"Represents a student with name and marks.\"\"\"\n",
        "\n",
        "    def __init__(self, name, marks):\n",
        "        self.name = name\n",
        "        self.marks = marks\n",
        "\n",
        "    def display(self):\n",
        "        \"\"\"Display student details.\"\"\"\n",
        "        print(f\"{self.name} => {self.marks}\")\n",
        "\n",
        "\n",
        "def compute_average(students):\n",
        "    \"\"\"Compute and return average marks of students.\"\"\"\n",
        "    total = sum(student.marks for student in students)\n",
        "    return total / len(students) if students else 0\n",
        "\n",
        "\n",
        "# ---- Using the Student class ----\n",
        "print(\"=== Question 1b: Student Records ===\")\n",
        "\n",
        "# Create list of student objects\n",
        "students = [\n",
        "    Student(\"Alice\", 80),\n",
        "    Student(\"Bob\", 90),\n",
        "    Student(\"Chris\", 75)\n",
        "]\n",
        "\n",
        "# Display each student's details\n",
        "for s in students:\n",
        "    s.display()\n",
        "\n",
        "# Compute and display average marks\n",
        "avg = compute_average(students)\n",
        "print(f\"\\nAverage Marks: {avg:.2f}\")"
      ],
      "metadata": {
        "colab": {
          "base_uri": "https://localhost:8080/"
        },
        "id": "piYA2Bfe-aQk",
        "outputId": "8622f4e6-8985-4179-af4e-019a4d91184c"
      },
      "execution_count": null,
      "outputs": [
        {
          "output_type": "stream",
          "name": "stdout",
          "text": [
            "=== Question 1b: Student Records ===\n",
            "Alice => 80\n",
            "Bob => 90\n",
            "Chris => 75\n",
            "\n",
            "Average Marks: 81.67\n"
          ]
        }
      ]
    },
    {
      "cell_type": "markdown",
      "source": [
        "Question 2: Using a module (string_tools.py)"
      ],
      "metadata": {
        "id": "MxTcB9RR656v"
      }
    },
    {
      "cell_type": "markdown",
      "source": [
        "2a"
      ],
      "metadata": {
        "id": "-yGzEeju7AXy"
      }
    },
    {
      "cell_type": "code",
      "source": [
        "# Question 2a: Using a module (string_tools.py)\n",
        "%%writefile string_tools.py\n",
        "def count_vowels(text):\n",
        "    \"\"\"Count the number of vowels in a given text.\"\"\"\n",
        "    vowels = \"aeiouAEIOU\"\n",
        "    return sum(1 for c in text if c in vowels)\n",
        "\n",
        "def is_palindrome(text):\n",
        "    \"\"\"Check if the text is a palindrome.\"\"\"\n",
        "    cleaned = ''.join(ch.lower() for ch in text if ch.isalnum())\n",
        "    return cleaned == cleaned[::-1]"
      ],
      "metadata": {
        "colab": {
          "base_uri": "https://localhost:8080/"
        },
        "id": "JYqyD9gq2YQJ",
        "outputId": "da367895-54ca-4051-cccb-b45d52bef5c2"
      },
      "execution_count": null,
      "outputs": [
        {
          "output_type": "stream",
          "name": "stdout",
          "text": [
            "Writing string_tools.py\n"
          ]
        }
      ]
    },
    {
      "cell_type": "code",
      "source": [
        "import string_tools\n",
        "\n",
        "text = input(\"Enter text: \")\n",
        "\n",
        "vowel_count = string_tools.count_vowels(text)\n",
        "palindrome_status = string_tools.is_palindrome(text)\n",
        "\n",
        "print(f\"Number of vowels: {vowel_count}\")\n",
        "print(\"It is a palindrome.\" if palindrome_status else \"It is not a palindrome.\")"
      ],
      "metadata": {
        "colab": {
          "base_uri": "https://localhost:8080/"
        },
        "id": "aTdMWA_h2cvo",
        "outputId": "2aed93af-8cfd-4ca5-b3ca-621a0c27caf2"
      },
      "execution_count": null,
      "outputs": [
        {
          "output_type": "stream",
          "name": "stdout",
          "text": [
            "Enter text: machesterunited\n",
            "Number of vowels: 6\n",
            "It is not a palindrome.\n"
          ]
        }
      ]
    },
    {
      "cell_type": "code",
      "source": [
        "import string_tools\n",
        "\n",
        "text = input(\"Enter text: \")\n",
        "\n",
        "vowel_count = string_tools.count_vowels(text)\n",
        "palindrome_status = string_tools.is_palindrome(text)\n",
        "\n",
        "print(f\"Number of vowels: {vowel_count}\")\n",
        "print(\"It is a palindrome.\" if palindrome_status else \"It is not a palindrome.\")"
      ],
      "metadata": {
        "colab": {
          "base_uri": "https://localhost:8080/"
        },
        "id": "6h7xahqY2nUe",
        "outputId": "60fba966-3f82-4916-9c95-0c92e5c38877"
      },
      "execution_count": null,
      "outputs": [
        {
          "output_type": "stream",
          "name": "stdout",
          "text": [
            "Enter text: anna\n",
            "Number of vowels: 2\n",
            "It is a palindrome.\n"
          ]
        }
      ]
    },
    {
      "cell_type": "markdown",
      "source": [
        "Question 2b: Creating a package (utils)"
      ],
      "metadata": {
        "id": "T0M-AQvc3-zf"
      }
    },
    {
      "cell_type": "code",
      "source": [
        "# Make the package folder and __init__.py\n",
        "!mkdir -p utils\n",
        "!touch utils/__init__.py"
      ],
      "metadata": {
        "id": "M3ygX0ub4BKj"
      },
      "execution_count": null,
      "outputs": []
    },
    {
      "cell_type": "code",
      "source": [
        "%%writefile utils/math_utils.py\n",
        "def factorial(n):\n",
        "    \"\"\"Compute factorial of n.\"\"\"\n",
        "    if n == 0 or n == 1:\n",
        "        return 1\n",
        "    return n * factorial(n - 1)\n",
        "\n",
        "def gcd(a, b):\n",
        "    \"\"\"Compute greatest common divisor of a and b.\"\"\"\n",
        "    while b:\n",
        "        a, b = b, a % b\n",
        "    return a\n",
        "\n",
        "def fibonacci(n):\n",
        "    \"\"\"Generate first n Fibonacci numbers.\"\"\"\n",
        "    fib = [0, 1]\n",
        "    for i in range(2, n):\n",
        "        fib.append(fib[i-1] + fib[i-2])\n",
        "    return fib[:n]"
      ],
      "metadata": {
        "colab": {
          "base_uri": "https://localhost:8080/"
        },
        "id": "onLy0U1H4FUS",
        "outputId": "692d7edf-0e7b-4756-dfd2-57c0c17658bd"
      },
      "execution_count": null,
      "outputs": [
        {
          "output_type": "stream",
          "name": "stdout",
          "text": [
            "Writing utils/math_utils.py\n"
          ]
        }
      ]
    },
    {
      "cell_type": "code",
      "source": [
        "%%writefile utils/string_utils.py\n",
        "def count_vowels(text):\n",
        "    \"\"\"Count vowels in text.\"\"\"\n",
        "    vowels = \"aeiouAEIOU\"\n",
        "    return sum(1 for ch in text if ch in vowels)\n",
        "\n",
        "def reverse_string(text):\n",
        "    \"\"\"Return reversed version of the string.\"\"\"\n",
        "    return text[::-1]"
      ],
      "metadata": {
        "colab": {
          "base_uri": "https://localhost:8080/"
        },
        "id": "FtLoEhHo4Lid",
        "outputId": "b2363c61-bc80-448b-e918-746b87047254"
      },
      "execution_count": null,
      "outputs": [
        {
          "output_type": "stream",
          "name": "stdout",
          "text": [
            "Writing utils/string_utils.py\n"
          ]
        }
      ]
    },
    {
      "cell_type": "code",
      "source": [
        "from utils import math_utils, string_utils\n",
        "\n",
        "# Math utilities\n",
        "print(\"Factorial of 5:\", math_utils.factorial(5))\n",
        "print(\"GCD of 48 and 18:\", math_utils.gcd(48, 18))\n",
        "print(\"First 10 Fibonacci numbers:\", math_utils.fibonacci(10))\n",
        "\n",
        "# String utilities\n",
        "text = input(\"Hello World\")\n",
        "print(\"\\nText:\", text)\n",
        "print(\"Number of vowels:\", string_utils.count_vowels(text))\n",
        "print(\"Reversed text:\", string_utils.reverse_string(text))"
      ],
      "metadata": {
        "colab": {
          "base_uri": "https://localhost:8080/"
        },
        "id": "yvxcKJNH4Tpj",
        "outputId": "1cf4b738-fd0e-48af-edfc-408fbf34a6e0"
      },
      "execution_count": null,
      "outputs": [
        {
          "output_type": "stream",
          "name": "stdout",
          "text": [
            "Factorial of 5: 120\n",
            "GCD of 48 and 18: 6\n",
            "First 10 Fibonacci numbers: [0, 1, 1, 2, 3, 5, 8, 13, 21, 34]\n",
            "Hello WorldHelloworld\n",
            "\n",
            "Text: Helloworld\n",
            "Number of vowels: 3\n",
            "Reversed text: dlrowolleH\n"
          ]
        }
      ]
    },
    {
      "cell_type": "markdown",
      "source": [
        " Question 3a: Generics & Templates in Python"
      ],
      "metadata": {
        "id": "XlSfwWFK5UkJ"
      }
    },
    {
      "cell_type": "code",
      "source": [
        "# ------------------------------------------\n",
        "# Question 3a: Generics & Templates in Python\n",
        "# ------------------------------------------\n",
        "\n",
        "from functools import reduce\n",
        "\n",
        "# Given list\n",
        "numbers = [2, 5, 8, 11, 14, 17, 20]\n",
        "\n",
        "# 1. Use map() to square each number\n",
        "squares = list(map(lambda x: x ** 2, numbers))\n",
        "print(\"Squares:\", squares)\n",
        "\n",
        "# 2. Use filter() to select only squares > 100\n",
        "filtered = list(filter(lambda x: x > 100, squares))\n",
        "print(\"Squares > 100:\", filtered)\n",
        "\n",
        "# 3. Use reduce() to compute the sum of remaining numbers\n",
        "total_sum = reduce(lambda a, b: a + b, filtered)\n",
        "print(\"Sum of squares > 100:\", total_sum)"
      ],
      "metadata": {
        "colab": {
          "base_uri": "https://localhost:8080/"
        },
        "id": "p2CfmeJZGJFb",
        "outputId": "4aaf8c67-16ad-45f1-e032-4bec0759252c"
      },
      "execution_count": null,
      "outputs": [
        {
          "output_type": "stream",
          "name": "stdout",
          "text": [
            "Squares: [4, 25, 64, 121, 196, 289, 400]\n",
            "Squares > 100: [121, 196, 289, 400]\n",
            "Sum of squares > 100: 1006\n"
          ]
        }
      ]
    },
    {
      "cell_type": "markdown",
      "source": [
        "# Question 4: Functional Programming on Real Data"
      ],
      "metadata": {
        "id": "V4WZj5CO4k6y"
      }
    },
    {
      "cell_type": "code",
      "source": [
        "# Question 4: Functional Programming on Real Data\n",
        "import csv\n",
        "import urllib.request\n",
        "from functools import reduce\n",
        "import time\n",
        "\n",
        "# ===============================\n",
        "# 1. Read the CSV using the csv module\n",
        "# ===============================\n",
        "url = \"https://raw.githubusercontent.com/datasets/population/master/data/population.csv\"\n",
        "response = urllib.request.urlopen(url)\n",
        "lines = [l.decode('utf-8') for l in response.readlines()]\n",
        "reader = csv.DictReader(lines)\n",
        "\n",
        "data = list(reader)  # convert iterator to list for reuse\n",
        "print(f\"Total records loaded: {len(data)}\")\n",
        "\n",
        "# Show immutability: print a small preview of original data\n",
        "print(\"\\nOriginal Data Sample (before transformations):\")\n",
        "print(data[:3])\n",
        "\n",
        "# ===============================\n",
        "# 2. Filter rows for Year == \"2020\"\n",
        "# ===============================\n",
        "data_2020 = list(filter(lambda row: row[\"Year\"] == \"2020\", data))\n",
        "\n",
        "# ===============================\n",
        "# 3. Map to tuples (Country Name, Population)\n",
        "# ===============================\n",
        "country_population = list(\n",
        "    map(lambda row: (row[\"Country Name\"], int(float(row[\"Value\"]))), data_2020)\n",
        ")\n",
        "\n",
        "# ===============================\n",
        "# 4. Sort and print top 5 most populated countries\n",
        "# ===============================\n",
        "top5 = sorted(country_population, key=lambda x: x[1], reverse=True)[:5]\n",
        "\n",
        "print(\"\\nTop 5 most populated countries in 2020:\")\n",
        "for country, pop in top5:\n",
        "    print(f\"{country}: {pop:,}\")\n",
        "\n",
        "# ===============================\n",
        "# 5. Compute total world population using reduce()\n",
        "# ===============================\n",
        "total_population = reduce(lambda acc, x: acc + x[1], country_population, 0)\n",
        "print(f\"\\nTotal World Population (2020): {total_population:,}\")\n",
        "\n",
        "# ===============================\n",
        "# 6. Average population for African countries using filter + reduce\n",
        "# ===============================\n",
        "# For simplicity, we'll use a known list of African countries\n",
        "african_countries = {\n",
        "    'Nigeria', 'Ethiopia', 'Egypt', 'DR Congo', 'Tanzania', 'South Africa',\n",
        "    'Kenya', 'Uganda', 'Algeria', 'Sudan', 'Morocco', 'Angola', 'Ghana',\n",
        "    'Mozambique', 'Madagascar', 'Cameroon', 'Côte d\\'Ivoire', 'Niger',\n",
        "    'Burkina Faso', 'Mali', 'Malawi', 'Zambia', 'Senegal', 'Chad', 'Somalia',\n",
        "    'Zimbabwe', 'Guinea', 'Rwanda', 'Benin', 'Burundi'\n",
        "}\n",
        "\n",
        "africa_data = list(filter(lambda x: x[0] in african_countries, country_population))\n",
        "africa_total = reduce(lambda acc, x: acc + x[1], africa_data, 0)\n",
        "africa_avg = africa_total / len(africa_data) if africa_data else 0\n",
        "print(f\"\\nAverage Population for African countries (2020): {africa_avg:,.0f}\")\n",
        "\n",
        "# ===============================\n",
        "# 7. Show immutability of data\n",
        "# ===============================\n",
        "print(\"\\nData after transformations (still original structure unchanged):\")\n",
        "print(data[:3])  # unchanged since filter/map/reduce don't mutate\n",
        "\n",
        "# ===============================\n",
        "# 8. Implement a higher-order function apply_and_log(func, iterable)\n",
        "# ===============================\n",
        "def apply_and_log(func, iterable):\n",
        "    print(f\"\\nApplying {func.__name__} to data...\")\n",
        "    result = list(map(func, iterable))\n",
        "    print(\"First 5 results:\", result[:5])\n",
        "    return result\n",
        "\n",
        "# Example usage\n",
        "apply_and_log(lambda x: (x[0], x[1] * 2), top5)\n",
        "\n",
        "# ===============================\n",
        "# 9. Create a composed functional pipeline for top 5 populated countries\n",
        "# ===============================\n",
        "def compose(*funcs):\n",
        "    \"\"\"Function composition utility\"\"\"\n",
        "    return lambda x: reduce(lambda acc, f: f(acc), reversed(funcs), x)\n",
        "\n",
        "def filter_2020(data):\n",
        "    return list(filter(lambda r: r[\"Year\"] == \"2020\", data))\n",
        "\n",
        "def to_country_pop(data):\n",
        "    return list(map(lambda r: (r[\"Country Name\"], int(float(r[\"Value\"]))), data))\n",
        "\n",
        "def sort_top5(data):\n",
        "    return sorted(data, key=lambda x: x[1], reverse=True)[:5]\n",
        "\n",
        "pipeline = compose(sort_top5, to_country_pop, filter_2020)\n",
        "top5_pipeline = pipeline(data)\n",
        "\n",
        "print(\"\\nFunctional Pipeline Result (Top 5 countries):\")\n",
        "for c, p in top5_pipeline:\n",
        "    print(f\"{c}: {p:,}\")\n",
        "\n",
        "# ===============================\n",
        "# 10. (Bonus) Compare performance: Functional vs List Comprehension\n",
        "# ===============================\n",
        "start_func = time.time()\n",
        "_ = list(map(lambda x: (x[0], x[1] * 2), country_population))\n",
        "end_func = time.time()\n",
        "\n",
        "start_list = time.time()\n",
        "_ = [(x[0], x[1] * 2) for x in country_population]\n",
        "end_list = time.time()\n",
        "\n",
        "print(\"\\nPerformance comparison:\")\n",
        "print(f\"Functional map() time: {end_func - start_func:.6f}s\")\n",
        "print(f\"List comprehension time: {end_list - start_list:.6f}s\")\n"
      ],
      "metadata": {
        "colab": {
          "base_uri": "https://localhost:8080/"
        },
        "id": "wkGGdIZiI67l",
        "outputId": "08f9f528-0c74-43b5-a871-0897bdd51cbf"
      },
      "execution_count": null,
      "outputs": [
        {
          "output_type": "stream",
          "name": "stdout",
          "text": [
            "Total records loaded: 16930\n",
            "\n",
            "Original Data Sample (before transformations):\n",
            "[{'Country Name': 'Aruba', 'Country Code': 'ABW', 'Year': '1960', 'Value': '54922'}, {'Country Name': 'Aruba', 'Country Code': 'ABW', 'Year': '1961', 'Value': '55578'}, {'Country Name': 'Aruba', 'Country Code': 'ABW', 'Year': '1962', 'Value': '56320'}]\n",
            "\n",
            "Top 5 most populated countries in 2020:\n",
            "World: 7,856,138,789\n",
            "IDA & IBRD total: 6,667,541,078\n",
            "Low & middle income: 6,438,169,877\n",
            "Middle income: 5,758,609,133\n",
            "IBRD only: 4,879,367,453\n",
            "\n",
            "Total World Population (2020): 84,588,945,334\n",
            "\n",
            "Average Population for African countries (2020): 39,023,904\n",
            "\n",
            "Data after transformations (still original structure unchanged):\n",
            "[{'Country Name': 'Aruba', 'Country Code': 'ABW', 'Year': '1960', 'Value': '54922'}, {'Country Name': 'Aruba', 'Country Code': 'ABW', 'Year': '1961', 'Value': '55578'}, {'Country Name': 'Aruba', 'Country Code': 'ABW', 'Year': '1962', 'Value': '56320'}]\n",
            "\n",
            "Applying <lambda> to data...\n",
            "First 5 results: [('World', 15712277578), ('IDA & IBRD total', 13335082156), ('Low & middle income', 12876339754), ('Middle income', 11517218266), ('IBRD only', 9758734906)]\n",
            "\n",
            "Functional Pipeline Result (Top 5 countries):\n",
            "World: 7,856,138,789\n",
            "IDA & IBRD total: 6,667,541,078\n",
            "Low & middle income: 6,438,169,877\n",
            "Middle income: 5,758,609,133\n",
            "IBRD only: 4,879,367,453\n",
            "\n",
            "Performance comparison:\n",
            "Functional map() time: 0.000334s\n",
            "List comprehension time: 0.000413s\n"
          ]
        }
      ]
    },
    {
      "cell_type": "markdown",
      "source": [
        "# Question 5: Concurrency on Real Data"
      ],
      "metadata": {
        "id": "HuSvo-_e5lB4"
      }
    },
    {
      "cell_type": "code",
      "source": [
        "# Question 5: Concurrency on Real Data\n",
        "# 5 a\n",
        "import threading\n",
        "import time\n",
        "\n",
        "def print_numbers(thread_name):\n",
        "    for i in range(1, 6):\n",
        "        print(f\"{thread_name} prints: {i}\")\n",
        "        time.sleep(1)\n",
        "\n",
        "# Create three threads\n",
        "t1 = threading.Thread(target=print_numbers, args=(\"Thread-1\",))\n",
        "t2 = threading.Thread(target=print_numbers, args=(\"Thread-2\",))\n",
        "t3 = threading.Thread(target=print_numbers, args=(\"Thread-3\",))\n",
        "\n",
        "# Start the threads\n",
        "t1.start()\n",
        "t2.start()\n",
        "t3.start()\n",
        "\n",
        "# Wait for all threads to complete\n",
        "t1.join()\n",
        "t2.join()\n",
        "t3.join()\n",
        "\n",
        "print(\"All threads complete.\")"
      ],
      "metadata": {
        "colab": {
          "base_uri": "https://localhost:8080/"
        },
        "id": "pXOx4MAMxhuq",
        "outputId": "0fce7451-22b5-45fe-ffee-1720d2359fc9"
      },
      "execution_count": null,
      "outputs": [
        {
          "output_type": "stream",
          "name": "stdout",
          "text": [
            "Thread-1 prints: 1\n",
            "Thread-2 prints: 1\n",
            "Thread-3 prints: 1\n",
            "Thread-1 prints: 2\n",
            "Thread-2 prints: 2\n",
            "Thread-3 prints: 2\n",
            "Thread-1 prints: 3\n",
            "Thread-2 prints: 3\n",
            "Thread-3 prints: 3\n",
            "Thread-1 prints: 4\n",
            "Thread-2 prints: 4\n",
            "Thread-3 prints: 4\n",
            "Thread-1 prints: 5\n",
            "Thread-2 prints: 5\n",
            "Thread-3 prints: 5\n",
            "All threads complete.\n"
          ]
        }
      ]
    },
    {
      "cell_type": "code",
      "source": [
        "# 5 b\n",
        "import threading\n",
        "import pandas as pd\n",
        "import time\n",
        "import requests\n",
        "from io import StringIO"
      ],
      "metadata": {
        "id": "8NXmBN1Yx8IK"
      },
      "execution_count": null,
      "outputs": []
    },
    {
      "cell_type": "code",
      "source": [
        "# Part A: Multithreaded Download\n",
        "# URLs of datasets\n",
        "urls = {\n",
        "    \"population\": \"https://raw.githubusercontent.com/datasets/population/master/data/population.csv\",\n",
        "    \"covid\": \"https://raw.githubusercontent.com/owid/covid-19-data/master/public/data/latest/owid-covid-latest.csv\",\n",
        "    \"temperature\": \"https://datahub.io/core/global-temp/r/annual.csv\"\n",
        "}\n",
        "\n",
        "# Storage for data\n",
        "datasets = {}\n",
        "\n",
        "def download_data(name, url):\n",
        "    print(f\"[{name}] Starting download...\")\n",
        "    response = requests.get(url)\n",
        "    if response.status_code == 200:\n",
        "        datasets[name] = pd.read_csv(StringIO(response.text))\n",
        "        print(f\"[{name}] Download complete. {len(datasets[name])} rows loaded.\")\n",
        "    else:\n",
        "        print(f\"[{name}] Failed to download.\")\n",
        "\n",
        "# Create threads\n",
        "threads = []\n",
        "for name, url in urls.items():\n",
        "    t = threading.Thread(target=download_data, args=(name, url))\n",
        "    threads.append(t)\n",
        "    t.start()\n",
        "\n",
        "# Wait for all to finish\n",
        "for t in threads:\n",
        "    t.join()\n",
        "\n",
        "print(\"\\nAll datasets downloaded successfully!\\n\")"
      ],
      "metadata": {
        "colab": {
          "base_uri": "https://localhost:8080/"
        },
        "id": "P-AfdAbjyIwN",
        "outputId": "60fc840d-bcb7-4059-bf20-b7f1eecfdd81"
      },
      "execution_count": null,
      "outputs": [
        {
          "output_type": "stream",
          "name": "stdout",
          "text": [
            "[population] Starting download...\n",
            "[covid] Starting download...\n",
            "[temperature] Starting download...\n",
            "[covid] Download complete. 247 rows loaded.\n",
            "[population] Download complete. 16930 rows loaded.\n",
            "[temperature] Download complete. 319 rows loaded.\n",
            "\n",
            "All datasets downloaded successfully!\n",
            "\n"
          ]
        }
      ]
    },
    {
      "cell_type": "code",
      "source": [
        "# Part B: Concurrent Data Processing\n",
        "# Functions for concurrent data analysis\n",
        "def total_world_population_2020():\n",
        "    df = datasets[\"population\"]\n",
        "    total = df[df[\"Year\"] == 2020][\"Value\"].sum()\n",
        "    print(f\"🌍 Total World Population (2020): {total:,}\")\n",
        "\n",
        "def total_new_covid_cases():\n",
        "    df = datasets[\"covid\"]\n",
        "    total = df[\"new_cases\"].sum(skipna=True)\n",
        "    print(f\"🦠 Total New COVID-19 Cases: {total:,.0f}\")\n",
        "\n",
        "def average_global_temperature():\n",
        "    df = datasets[\"temperature\"]\n",
        "    avg_temp = df[\"Mean\"].mean()\n",
        "    print(f\"🌡️ Average Global Temperature: {avg_temp:.2f}°C\")\n",
        "\n",
        "# Create threads for processing\n",
        "t1 = threading.Thread(target=total_world_population_2020)\n",
        "t2 = threading.Thread(target=total_new_covid_cases)\n",
        "t3 = threading.Thread(target=average_global_temperature)\n",
        "\n",
        "# Start all threads\n",
        "for t in [t1, t2, t3]:\n",
        "    t.start()\n",
        "\n",
        "# Wait for all to complete\n",
        "for t in [t1, t2, t3]:\n",
        "    t.join()\n",
        "\n",
        "print(\"\\n✅ All analysis threads complete.\")"
      ],
      "metadata": {
        "colab": {
          "base_uri": "https://localhost:8080/"
        },
        "id": "CoVtseEHybCb",
        "outputId": "a0834f15-a7bd-4ae1-ee5d-200b207aa845"
      },
      "execution_count": null,
      "outputs": [
        {
          "output_type": "stream",
          "name": "stdout",
          "text": [
            "🌡️ Average Global Temperature: -0.01°C\n",
            "🦠 Total New COVID-19 Cases: 214,317\n",
            "🌍 Total World Population (2020): 84,588,945,340.0\n",
            "\n",
            "✅ All analysis threads complete.\n"
          ]
        }
      ]
    },
    {
      "cell_type": "code",
      "source": [
        "# Part C (Bonus): Compare Threading vs Multiprocessing\n",
        "from multiprocessing import Process\n",
        "import time\n",
        "\n",
        "def compute_population():\n",
        "    df = datasets[\"population\"]\n",
        "    df[df[\"Year\"] == 2020][\"Value\"].sum()\n",
        "\n",
        "def compute_covid():\n",
        "    df = datasets[\"covid\"]\n",
        "    df[\"new_cases\"].sum(skipna=True)\n",
        "\n",
        "def compute_temperature():\n",
        "    df = datasets[\"temperature\"]\n",
        "    df[\"Mean\"].mean()\n",
        "\n",
        "# --- Threading runtime ---\n",
        "start = time.perf_counter()\n",
        "\n",
        "t1 = threading.Thread(target=compute_population)\n",
        "t2 = threading.Thread(target=compute_covid)\n",
        "t3 = threading.Thread(target=compute_temperature)\n",
        "\n",
        "for t in [t1, t2, t3]:\n",
        "    t.start()\n",
        "for t in [t1, t2, t3]:\n",
        "    t.join()\n",
        "\n",
        "threading_time = time.perf_counter() - start\n",
        "\n",
        "# --- Multiprocessing runtime ---\n",
        "start = time.perf_counter()\n",
        "\n",
        "p1 = Process(target=compute_population)\n",
        "p2 = Process(target=compute_covid)\n",
        "p3 = Process(target=compute_temperature)\n",
        "\n",
        "for p in [p1, p2, p3]:\n",
        "    p.start()\n",
        "for p in [p1, p2, p3]:\n",
        "    p.join()\n",
        "\n",
        "multiprocessing_time = time.perf_counter() - start\n",
        "\n",
        "print(f\"\\n Threading time: {threading_time:.3f} seconds\")\n",
        "print(f\" Multiprocessing time: {multiprocessing_time:.3f} seconds\")"
      ],
      "metadata": {
        "colab": {
          "base_uri": "https://localhost:8080/"
        },
        "id": "bsrm42Fyyhk-",
        "outputId": "82675ba9-9be4-472e-e930-ee1a9e1d9bde"
      },
      "execution_count": null,
      "outputs": [
        {
          "output_type": "stream",
          "name": "stdout",
          "text": [
            "\n",
            " Threading time: 0.005 seconds\n",
            " Multiprocessing time: 0.047 seconds\n"
          ]
        }
      ]
    },
    {
      "cell_type": "markdown",
      "source": [
        " Question 6: Emerging Paradigms"
      ],
      "metadata": {
        "id": "6v6NvFe_8BX2"
      }
    },
    {
      "cell_type": "markdown",
      "source": [
        "Part A: Sync requests and JSON parsing"
      ],
      "metadata": {
        "id": "U7wq2qOZ8E4o"
      }
    },
    {
      "cell_type": "code",
      "source": [
        "# Question 6: Emerging Paradigms\n",
        "# Part A: Sync requests + JSON parsing\n",
        "import os\n",
        "import requests\n",
        "\n",
        "GITHUB_API = \"https://api.github.com/users/octocat\"\n",
        "\n",
        "# Optional: use token to avoid strict rate limits (set in Colab via os.environ)\n",
        "token = os.getenv(\"GITHUB_TOKEN\")\n",
        "headers = {\"Accept\": \"application/vnd.github.v3+json\"}\n",
        "if token:\n",
        "    headers[\"Authorization\"] = f\"token {token}\"\n",
        "\n",
        "resp = requests.get(GITHUB_API, headers=headers, timeout=10)\n",
        "resp.raise_for_status()\n",
        "data = resp.json()\n",
        "\n",
        "# required prints: user name, number of public repos, profile URL\n",
        "print(\"=== Part A: Basic API Interaction (sync) ===\")\n",
        "print(f\"Login / username: {data.get('login')}\")\n",
        "print(f\"Name: {data.get('name')}\")\n",
        "print(f\"Public repositories: {data.get('public_repos')}\")\n",
        "print(f\"Profile URL: {data.get('html_url')}\")\n",
        "print()"
      ],
      "metadata": {
        "colab": {
          "base_uri": "https://localhost:8080/"
        },
        "id": "WqO2dgyTv5Xo",
        "outputId": "4b866f8d-3100-418b-9949-fd347e9be0c9"
      },
      "execution_count": null,
      "outputs": [
        {
          "output_type": "stream",
          "name": "stdout",
          "text": [
            "=== Part A: Basic API Interaction (sync) ===\n",
            "Login / username: octocat\n",
            "Name: The Octocat\n",
            "Public repositories: 8\n",
            "Profile URL: https://github.com/octocat\n",
            "\n"
          ]
        }
      ]
    },
    {
      "cell_type": "markdown",
      "source": [
        "Part B: Async fetching for multiple GitHub users concurrently"
      ],
      "metadata": {
        "id": "1xVAb_y179E6"
      }
    },
    {
      "cell_type": "code",
      "source": [
        "# Part B: Async fetching for multiple GitHub users concurrently\n",
        "import asyncio\n",
        "import aiohttp\n",
        "import os\n",
        "from typing import List, Dict, Any\n",
        "\n",
        "GITHUB_USER_URL = \"https://api.github.com/users/{}\"\n",
        "# example list of GitHub usernames to fetch concurrently\n",
        "usernames = [\"octocat\", \"torvalds\", \"mojombo\", \"defunkt\", \"pjhyett\"]\n",
        "\n",
        "# Optional token to increase rate limit:\n",
        "GITHUB_TOKEN = os.getenv(\"GITHUB_TOKEN\")\n",
        "auth_headers = {\"Accept\": \"application/vnd.github.v3+json\"}\n",
        "if GITHUB_TOKEN:\n",
        "    auth_headers[\"Authorization\"] = f\"token {GITHUB_TOKEN}\"\n",
        "\n",
        "async def fetch_user(session: aiohttp.ClientSession, username: str) -> Dict[str, Any]:\n",
        "    url = GITHUB_USER_URL.format(username)\n",
        "    async with session.get(url, headers=auth_headers, timeout=10) as r:\n",
        "        r.raise_for_status()\n",
        "        return await r.json()\n",
        "\n",
        "async def fetch_many_users(usernames: List[str]) -> List[Dict[str, Any]]:\n",
        "    async with aiohttp.ClientSession() as session:\n",
        "        tasks = [asyncio.create_task(fetch_user(session, u)) for u in usernames]\n",
        "        results = await asyncio.gather(*tasks, return_exceptions=True)\n",
        "        # handle exceptions: convert to dict with 'error' key\n",
        "        processed = []\n",
        "        for username, res in zip(usernames, results):\n",
        "            if isinstance(res, Exception):\n",
        "                processed.append({\"login\": username, \"error\": str(res), \"public_repos\": -1})\n",
        "            else:\n",
        "                processed.append(res)\n",
        "        return processed\n",
        "\n",
        "# run the async fetch\n",
        "print(\"=== Part B: Async concurrent GitHub fetch ===\")\n",
        "# users = asyncio.run(fetch_many_users(usernames)) # Original line\n",
        "users = await fetch_many_users(usernames) # Corrected line\n",
        "\n",
        "# sort by public_repos descending (handle missing values)\n",
        "users_sorted = sorted(users, key=lambda u: u.get(\"public_repos\", -1), reverse=True)\n",
        "\n",
        "for u in users_sorted:\n",
        "    if u.get(\"error\"):\n",
        "        print(f\"{u.get('login')}: ERROR -> {u.get('error')}\")\n",
        "    else:\n",
        "        print(f\"{u.get('login')} | name: {u.get('name')} | public_repos: {u.get('public_repos')} | url: {u.get('html_url')}\")\n",
        "print()"
      ],
      "metadata": {
        "colab": {
          "base_uri": "https://localhost:8080/"
        },
        "id": "dXbRnepqv_bt",
        "outputId": "e5a8dba1-4423-434e-edb0-2d510cdd069d"
      },
      "execution_count": null,
      "outputs": [
        {
          "output_type": "stream",
          "name": "stdout",
          "text": [
            "=== Part B: Async concurrent GitHub fetch ===\n",
            "defunkt | name: Chris Wanstrath | public_repos: 107 | url: https://github.com/defunkt\n",
            "mojombo | name: Tom Preston-Werner | public_repos: 66 | url: https://github.com/mojombo\n",
            "torvalds | name: Linus Torvalds | public_repos: 9 | url: https://github.com/torvalds\n",
            "octocat | name: The Octocat | public_repos: 8 | url: https://github.com/octocat\n",
            "pjhyett | name: PJ Hyett | public_repos: 8 | url: https://github.com/pjhyett\n",
            "\n"
          ]
        }
      ]
    },
    {
      "cell_type": "markdown",
      "source": [
        "Part C: Fetch weather API concurrently with GitHub"
      ],
      "metadata": {
        "id": "s5dTsV2l74kH"
      }
    },
    {
      "cell_type": "code",
      "source": [
        "# Part C: Fetch weather API concurrently with GitHub calls and print combined summary\n",
        "import asyncio\n",
        "import aiohttp\n",
        "from typing import Any, Dict\n",
        "\n",
        "WEATHER_API = \"https://api.open-meteo.com/v1/forecast?latitude=0.3&longitude=32.6&current_weather=true\"\n",
        "# We'll reuse fetch_user; create a dedicated weather fetcher.\n",
        "\n",
        "async def fetch_weather(session: aiohttp.ClientSession) -> Dict[str, Any]:\n",
        "    async with session.get(WEATHER_API, timeout=10) as r:\n",
        "        r.raise_for_status()\n",
        "        return await r.json()\n",
        "\n",
        "async def fetch_users_and_weather(usernames):\n",
        "    async with aiohttp.ClientSession() as session:\n",
        "        tasks = []\n",
        "        # GitHub tasks\n",
        "        for u in usernames:\n",
        "            tasks.append(asyncio.create_task(fetch_user(session, u)))\n",
        "        # Weather task\n",
        "        weather_task = asyncio.create_task(fetch_weather(session))\n",
        "        # gather all\n",
        "        results = await asyncio.gather(*tasks, weather_task, return_exceptions=True)\n",
        "        # last element is weather\n",
        "        weather_res = results[-1]\n",
        "        user_results = results[:-1]\n",
        "        # process\n",
        "        processed_users = []\n",
        "        for username, res in zip(usernames, user_results):\n",
        "            if isinstance(res, Exception):\n",
        "                processed_users.append({\"login\": username, \"error\": str(res), \"public_repos\": -1})\n",
        "            else:\n",
        "                processed_users.append(res)\n",
        "        if isinstance(weather_res, Exception):\n",
        "            processed_weather = {\"error\": str(weather_res)}\n",
        "        else:\n",
        "            processed_weather = weather_res\n",
        "        return processed_users, processed_weather\n",
        "\n",
        "print(\"=== Part C: Concurrent GitHub + Weather ===\")\n",
        "users_c, weather = await fetch_users_and_weather(usernames) # Corrected line\n",
        "\n",
        "# find top user by public repos\n",
        "valid_users = [u for u in users_c if not u.get(\"error\")]\n",
        "if valid_users:\n",
        "    top_user = max(valid_users, key=lambda u: u.get(\"public_repos\", -1))\n",
        "else:\n",
        "    top_user = None\n",
        "\n",
        "print(\"Top GitHub user (by public_repos):\")\n",
        "if top_user:\n",
        "    print(f\"  {top_user.get('login')} ({top_user.get('name')}) - public_repos: {top_user.get('public_repos')}\")\n",
        "    print(f\"  Profile: {top_user.get('html_url')}\")\n",
        "else:\n",
        "    print(\"  No valid GitHub user data.\")\n",
        "\n",
        "print(\"\\nWeather (current):\")\n",
        "if weather.get(\"error\"):\n",
        "    print(\"  Weather fetch error:\", weather.get(\"error\"))\n",
        "else:\n",
        "    # expected structure: { \"current_weather\": { \"temperature\": ..., \"windspeed\": ..., ... } }\n",
        "    cw = weather.get(\"current_weather\")\n",
        "    if cw:\n",
        "        print(f\"  Temperature: {cw.get('temperature')} °C\")\n",
        "        print(f\"  Wind speed: {cw.get('windspeed')} m/s\")\n",
        "        print(f\"  Wind direction: {cw.get('winddirection')}°\")\n",
        "        print(f\"  Time: {cw.get('time')}\")\n",
        "    else:\n",
        "        print(\"  No current_weather in response.\")\n",
        "print()"
      ],
      "metadata": {
        "colab": {
          "base_uri": "https://localhost:8080/"
        },
        "id": "9ARlyLPqwQTx",
        "outputId": "ee58f89b-a04d-4e9c-9930-85eb6933fcfc"
      },
      "execution_count": null,
      "outputs": [
        {
          "output_type": "stream",
          "name": "stdout",
          "text": [
            "=== Part C: Concurrent GitHub + Weather ===\n",
            "Top GitHub user (by public_repos):\n",
            "  defunkt (Chris Wanstrath) - public_repos: 107\n",
            "  Profile: https://github.com/defunkt\n",
            "\n",
            "Weather (current):\n",
            "  Temperature: 22.4 °C\n",
            "  Wind speed: 7.6 m/s\n",
            "  Wind direction: 31°\n",
            "  Time: 2025-10-23T06:15\n",
            "\n"
          ]
        }
      ]
    },
    {
      "cell_type": "markdown",
      "source": [
        "# Part D: Async retry logic with exponential backoff + async logging to a file"
      ],
      "metadata": {
        "id": "ogIsoOH-7vH1"
      }
    },
    {
      "cell_type": "code",
      "source": [
        "# Part D: Async retry logic with exponential backoff + async logging to a file\n",
        "import asyncio\n",
        "import aiohttp\n",
        "import aiofiles\n",
        "import random\n",
        "import time\n",
        "from typing import Callable\n",
        "\n",
        "MAX_RETRIES = 4\n",
        "BASE_BACKOFF = 0.5  # seconds\n",
        "\n",
        "async def async_request_with_retries(session: aiohttp.ClientSession, method: str, url: str, **kwargs):\n",
        "    \"\"\"\n",
        "    Retry on network failures or 5xx responses, with exponential backoff + jitter.\n",
        "    Returns (result_json, None) on success, (None, exception) on failure.\n",
        "    \"\"\"\n",
        "    for attempt in range(1, MAX_RETRIES + 1):\n",
        "        try:\n",
        "            async with session.request(method, url, **kwargs) as resp:\n",
        "                # treat 5xx as retryable\n",
        "                if 500 <= resp.status < 600:\n",
        "                    text = await resp.text()\n",
        "                    raise aiohttp.ClientResponseError(\n",
        "                        resp.request_info, resp.history,\n",
        "                        status=resp.status, message=f\"Server error: {text}\", headers=resp.headers\n",
        "                    )\n",
        "                resp.raise_for_status()\n",
        "                return await resp.json(), None\n",
        "        except Exception as e:\n",
        "            # last attempt -> return error\n",
        "            if attempt == MAX_RETRIES:\n",
        "                return None, e\n",
        "            # backoff with jitter\n",
        "            backoff = BASE_BACKOFF * (2 ** (attempt - 1))\n",
        "            jitter = random.uniform(0, backoff * 0.3)\n",
        "            sleep_for = backoff + jitter\n",
        "            await asyncio.sleep(sleep_for)\n",
        "    # unreachable\n",
        "    return None, Exception(\"Unknown retry failure\")\n",
        "\n",
        "async def fetch_many_with_retry(usernames, logfile=\"async_results.log\"):\n",
        "    async with aiohttp.ClientSession() as session:\n",
        "        tasks = []\n",
        "        for u in usernames:\n",
        "            url = GITHUB_USER_URL.format(u)\n",
        "            tasks.append(asyncio.create_task(async_request_with_retries(session, \"GET\", url, headers=auth_headers, timeout=10)))\n",
        "        # gather\n",
        "        results = await asyncio.gather(*tasks)\n",
        "        # write logs asynchronously\n",
        "        async with aiofiles.open(logfile, mode=\"a\") as f:\n",
        "            ts = time.strftime(\"%Y-%m-%d %H:%M:%S\", time.gmtime())\n",
        "            await f.write(f\"--- Fetch batch at {ts} ---\\n\")\n",
        "            for username, (res_json, err) in zip(usernames, results):\n",
        "                if err:\n",
        "                    await f.write(f\"{username} -> ERROR: {err}\\n\")\n",
        "                else:\n",
        "                    await f.write(f\"{username} -> OK: public_repos={res_json.get('public_repos')}, name={res_json.get('name')}\\n\")\n",
        "        return results\n",
        "\n",
        "print(\"=== Part D: Async retry + async logging ===\")\n",
        "res = await fetch_many_with_retry(usernames, logfile=\"async_results.log\") # Corrected line\n",
        "print(\"Completed. Logs appended to 'async_results.log'. Sample log lines:\")\n",
        "# print last 10 lines from log file\n",
        "!tail -n 12 async_results.log || true"
      ],
      "metadata": {
        "colab": {
          "base_uri": "https://localhost:8080/"
        },
        "id": "ZITwv11qweH7",
        "outputId": "330bee62-d705-42c2-c25a-356031633c39"
      },
      "execution_count": null,
      "outputs": [
        {
          "output_type": "stream",
          "name": "stderr",
          "text": [
            "Exception ignored in: <coroutine object fetch_users_and_weather at 0x798317d2d2a0>\n",
            "Traceback (most recent call last):\n",
            "  File \"<string>\", line 1, in <lambda>\n",
            "KeyError: '__import__'\n",
            "Exception ignored in: <coroutine object fetch_users_and_weather at 0x798317d2d2a0>\n",
            "Traceback (most recent call last):\n",
            "  File \"<string>\", line 1, in <lambda>\n",
            "KeyError: '__import__'\n"
          ]
        },
        {
          "output_type": "stream",
          "name": "stdout",
          "text": [
            "=== Part D: Async retry + async logging ===\n",
            "Completed. Logs appended to 'async_results.log'. Sample log lines:\n",
            "--- Fetch batch at 2025-10-23 06:30:07 ---\n",
            "octocat -> OK: public_repos=8, name=The Octocat\n",
            "torvalds -> OK: public_repos=9, name=Linus Torvalds\n",
            "mojombo -> OK: public_repos=66, name=Tom Preston-Werner\n",
            "defunkt -> OK: public_repos=107, name=Chris Wanstrath\n",
            "pjhyett -> OK: public_repos=8, name=PJ Hyett\n"
          ]
        }
      ]
    }
  ]
}